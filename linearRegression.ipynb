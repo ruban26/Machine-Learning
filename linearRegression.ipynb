{
  "nbformat": 4,
  "nbformat_minor": 0,
  "metadata": {
    "colab": {
      "provenance": []
    },
    "kernelspec": {
      "name": "python3",
      "display_name": "Python 3"
    },
    "language_info": {
      "name": "python"
    }
  },
  "cells": [
    {
      "cell_type": "code",
      "metadata": {
        "id": "cQQrs1gSMA0F"
      },
      "source": [
        "#SIMPLE LINEAR REGRESSION"
      ],
      "execution_count": null,
      "outputs": []
    },
    {
      "cell_type": "code",
      "metadata": {
        "id": "62PNTq2xL02S"
      },
      "source": [
        "#importing the libraries\n",
        "import pandas as pd\n",
        "import numpy as np\n",
        "import matplotlib.pyplot as plt"
      ],
      "execution_count": null,
      "outputs": []
    },
    {
      "cell_type": "code",
      "metadata": {
        "id": "SJomC5K7MOxK"
      },
      "source": [
        "#import the dataset\n",
        "dataset = pd.read_csv('/content/drive/MyDrive/salary data.csv - salary data.csv.csv')\n",
        "X = dataset.iloc[:, :-1].values\n",
        "Y = dataset.iloc[:,-1].values"
      ],
      "execution_count": null,
      "outputs": []
    },
    {
      "cell_type": "code",
      "metadata": {
        "id": "T1f86RXTM9mw"
      },
      "source": [
        "#splitting the data into training set and test set\n",
        "from sklearn.model_selection import train_test_split\n",
        "X_train,X_test,Y_train,Y_test = train_test_split(X,Y, test_size = 1/3, random_state = 0)"
      ],
      "execution_count": null,
      "outputs": []
    },
    {
      "cell_type": "code",
      "metadata": {
        "colab": {
          "base_uri": "https://localhost:8080/"
        },
        "id": "2Wu6r1PwOSR6",
        "outputId": "c6bc8736-57bf-41ae-9574-7f7ce611e4f7"
      },
      "source": [
        "#Training the Simple Linear Regression model on the dataset\n",
        "from sklearn.linear_model import LinearRegression\n",
        "regressor = LinearRegression()\n",
        "regressor.fit(X_train,Y_train)"
      ],
      "execution_count": null,
      "outputs": [
        {
          "output_type": "execute_result",
          "data": {
            "text/plain": [
              "LinearRegression()"
            ]
          },
          "metadata": {},
          "execution_count": 5
        }
      ]
    },
    {
      "cell_type": "code",
      "metadata": {
        "colab": {
          "base_uri": "https://localhost:8080/"
        },
        "id": "sZn5O5ICOzgb",
        "outputId": "273acdc7-0db8-4cd8-eb66-7e527d6cd9a4"
      },
      "source": [
        "#Predicting the test set results\n",
        "Y_pred = regressor.predict(X_test)\n",
        "Y_pred\n",
        "r_sq = regressor.score(X,Y)\n",
        "r_sq"
      ],
      "execution_count": null,
      "outputs": [
        {
          "output_type": "execute_result",
          "data": {
            "text/plain": [
              "0.9565349708076958"
            ]
          },
          "metadata": {},
          "execution_count": 6
        }
      ]
    },
    {
      "cell_type": "code",
      "source": [
        "print('intercept:', regressor.intercept_)\n",
        "print('slope:', regressor.coef_)"
      ],
      "metadata": {
        "colab": {
          "base_uri": "https://localhost:8080/"
        },
        "id": "RMV9rUp6L6LE",
        "outputId": "cf659bb8-b65d-438b-d539-eaf5930a774d"
      },
      "execution_count": null,
      "outputs": [
        {
          "output_type": "stream",
          "name": "stdout",
          "text": [
            "intercept: 26816.192244031183\n",
            "slope: [9345.94244312]\n"
          ]
        }
      ]
    }
  ]
}